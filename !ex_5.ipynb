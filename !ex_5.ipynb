{
 "cells": [
  {
   "cell_type": "code",
   "execution_count": 11,
   "metadata": {
    "collapsed": true
   },
   "outputs": [],
   "source": [
    "from pandas import DataFrame as df\n",
    "\n",
    "data = [\n",
    "    ['Ухмыляюсь', 2.26, 1.02, 87.3],\n",
    "    ['Сияю от радости', 19.1, 1.69, 150.0],\n",
    "    ['Катаюсь от смеха', 25.6, 0.774, 0.0],\n",
    "    ['Слёзы радости', 233.0, 7.31, 2270.0],\n",
    "    ['Подмигиваю', 15.2, 2.36, 264.0],\n",
    "    ['Счастлив', 22.7, 4.26, 565.0],\n",
    "    ['Глаза-сердца', 64.6, 11.2, 834.0],\n",
    "    ['Целую', 87.5, 5.13, 432.0],\n",
    "    ['Задумчивость', 6.81, 0.636, 0.0],\n",
    "    ['Равнодушие', 6.0, 0.236, 478.0],\n",
    "    ['Солнечные очки', 4.72, 3.93, 198.0],\n",
    "    ['Громко плачу', 24.7, 1.35, 654.0],\n",
    "    ['След от поцелуя', 21.7, 2.87, 98.7],\n",
    "    ['Два сердца', 10.0, 5.69, 445.0],\n",
    "    ['Сердце', 118.0, 26.0, 1080.0],\n",
    "    ['Червы', 3.31, 1.82, 697.0],\n",
    "    ['Класс', 23.1, 3.75, 227.0],\n",
    "    ['Пожимаю плечами', 1.74, 0.11, 0.0],\n",
    "    ['Огонь', 4.5, 2.49, 150.0],\n",
    "    ['Переработка', 0.0333, 0.056, 932.0]\n",
    "]\n",
    "\n",
    "data = df(data, columns=['Название', 'EMOJIXPRESS, МЛН', 'INSTAGRAM, МЛН', 'ТВИТТЕР, МЛН'])"
   ]
  },
  {
   "cell_type": "code",
   "execution_count": 12,
   "outputs": [
    {
     "data": {
      "text/plain": "            Название  EMOJIXPRESS, МЛН  INSTAGRAM, МЛН  ТВИТТЕР, МЛН    Total\n0          Ухмыляюсь            2.2600           1.020          87.3    90.58\n1    Сияю от радости           19.1000           1.690         150.0   170.79\n2   Катаюсь от смеха           25.6000           0.774           0.0    26.37\n3      Слёзы радости          233.0000           7.310        2270.0  2510.31\n4         Подмигиваю           15.2000           2.360         264.0   281.56\n5           Счастлив           22.7000           4.260         565.0   591.96\n6       Глаза-сердца           64.6000          11.200         834.0   909.80\n7              Целую           87.5000           5.130         432.0   524.63\n8       Задумчивость            6.8100           0.636           0.0     7.45\n9         Равнодушие            6.0000           0.236         478.0   484.24\n10    Солнечные очки            4.7200           3.930         198.0   206.65\n11      Громко плачу           24.7000           1.350         654.0   680.05\n12   След от поцелуя           21.7000           2.870          98.7   123.27\n13        Два сердца           10.0000           5.690         445.0   460.69\n14            Сердце          118.0000          26.000        1080.0  1224.00\n15             Червы            3.3100           1.820         697.0   702.13\n16             Класс           23.1000           3.750         227.0   253.85\n17   Пожимаю плечами            1.7400           0.110           0.0     1.85\n18             Огонь            4.5000           2.490         150.0   156.99\n19       Переработка            0.0333           0.056         932.0   932.09",
      "text/html": "<div>\n<style scoped>\n    .dataframe tbody tr th:only-of-type {\n        vertical-align: middle;\n    }\n\n    .dataframe tbody tr th {\n        vertical-align: top;\n    }\n\n    .dataframe thead th {\n        text-align: right;\n    }\n</style>\n<table border=\"1\" class=\"dataframe\">\n  <thead>\n    <tr style=\"text-align: right;\">\n      <th></th>\n      <th>Название</th>\n      <th>EMOJIXPRESS, МЛН</th>\n      <th>INSTAGRAM, МЛН</th>\n      <th>ТВИТТЕР, МЛН</th>\n      <th>Total</th>\n    </tr>\n  </thead>\n  <tbody>\n    <tr>\n      <th>0</th>\n      <td>Ухмыляюсь</td>\n      <td>2.2600</td>\n      <td>1.020</td>\n      <td>87.3</td>\n      <td>90.58</td>\n    </tr>\n    <tr>\n      <th>1</th>\n      <td>Сияю от радости</td>\n      <td>19.1000</td>\n      <td>1.690</td>\n      <td>150.0</td>\n      <td>170.79</td>\n    </tr>\n    <tr>\n      <th>2</th>\n      <td>Катаюсь от смеха</td>\n      <td>25.6000</td>\n      <td>0.774</td>\n      <td>0.0</td>\n      <td>26.37</td>\n    </tr>\n    <tr>\n      <th>3</th>\n      <td>Слёзы радости</td>\n      <td>233.0000</td>\n      <td>7.310</td>\n      <td>2270.0</td>\n      <td>2510.31</td>\n    </tr>\n    <tr>\n      <th>4</th>\n      <td>Подмигиваю</td>\n      <td>15.2000</td>\n      <td>2.360</td>\n      <td>264.0</td>\n      <td>281.56</td>\n    </tr>\n    <tr>\n      <th>5</th>\n      <td>Счастлив</td>\n      <td>22.7000</td>\n      <td>4.260</td>\n      <td>565.0</td>\n      <td>591.96</td>\n    </tr>\n    <tr>\n      <th>6</th>\n      <td>Глаза-сердца</td>\n      <td>64.6000</td>\n      <td>11.200</td>\n      <td>834.0</td>\n      <td>909.80</td>\n    </tr>\n    <tr>\n      <th>7</th>\n      <td>Целую</td>\n      <td>87.5000</td>\n      <td>5.130</td>\n      <td>432.0</td>\n      <td>524.63</td>\n    </tr>\n    <tr>\n      <th>8</th>\n      <td>Задумчивость</td>\n      <td>6.8100</td>\n      <td>0.636</td>\n      <td>0.0</td>\n      <td>7.45</td>\n    </tr>\n    <tr>\n      <th>9</th>\n      <td>Равнодушие</td>\n      <td>6.0000</td>\n      <td>0.236</td>\n      <td>478.0</td>\n      <td>484.24</td>\n    </tr>\n    <tr>\n      <th>10</th>\n      <td>Солнечные очки</td>\n      <td>4.7200</td>\n      <td>3.930</td>\n      <td>198.0</td>\n      <td>206.65</td>\n    </tr>\n    <tr>\n      <th>11</th>\n      <td>Громко плачу</td>\n      <td>24.7000</td>\n      <td>1.350</td>\n      <td>654.0</td>\n      <td>680.05</td>\n    </tr>\n    <tr>\n      <th>12</th>\n      <td>След от поцелуя</td>\n      <td>21.7000</td>\n      <td>2.870</td>\n      <td>98.7</td>\n      <td>123.27</td>\n    </tr>\n    <tr>\n      <th>13</th>\n      <td>Два сердца</td>\n      <td>10.0000</td>\n      <td>5.690</td>\n      <td>445.0</td>\n      <td>460.69</td>\n    </tr>\n    <tr>\n      <th>14</th>\n      <td>Сердце</td>\n      <td>118.0000</td>\n      <td>26.000</td>\n      <td>1080.0</td>\n      <td>1224.00</td>\n    </tr>\n    <tr>\n      <th>15</th>\n      <td>Червы</td>\n      <td>3.3100</td>\n      <td>1.820</td>\n      <td>697.0</td>\n      <td>702.13</td>\n    </tr>\n    <tr>\n      <th>16</th>\n      <td>Класс</td>\n      <td>23.1000</td>\n      <td>3.750</td>\n      <td>227.0</td>\n      <td>253.85</td>\n    </tr>\n    <tr>\n      <th>17</th>\n      <td>Пожимаю плечами</td>\n      <td>1.7400</td>\n      <td>0.110</td>\n      <td>0.0</td>\n      <td>1.85</td>\n    </tr>\n    <tr>\n      <th>18</th>\n      <td>Огонь</td>\n      <td>4.5000</td>\n      <td>2.490</td>\n      <td>150.0</td>\n      <td>156.99</td>\n    </tr>\n    <tr>\n      <th>19</th>\n      <td>Переработка</td>\n      <td>0.0333</td>\n      <td>0.056</td>\n      <td>932.0</td>\n      <td>932.09</td>\n    </tr>\n  </tbody>\n</table>\n</div>"
     },
     "execution_count": 12,
     "metadata": {},
     "output_type": "execute_result"
    }
   ],
   "source": [
    "data['Total'] = round(data['EMOJIXPRESS, МЛН'] + data['INSTAGRAM, МЛН'] + data['ТВИТТЕР, МЛН'], 2)\n",
    "data"
   ],
   "metadata": {
    "collapsed": false
   }
  },
  {
   "cell_type": "code",
   "execution_count": 13,
   "outputs": [
    {
     "name": "stdout",
     "output_type": "stream",
     "text": [
      "+------------------+-----------+\n",
      "|     НАЗВАНИЕ     | РЕЗУЛЬТАТ |\n",
      "+------------------+-----------+\n",
      "| emojixpress_mean |   34.73   |\n",
      "|  instagram_mean  |    4.13   |\n",
      "|   twitter_mean   |   478.1   |\n",
      "|    total_mean    |   516.96  |\n",
      "+------------------+-----------+\n"
     ]
    }
   ],
   "source": [
    "emojixpress_mean = data['EMOJIXPRESS, МЛН'].mean()\n",
    "instagram_mean = data['INSTAGRAM, МЛН'].mean()\n",
    "twitter_mean = data['ТВИТТЕР, МЛН'].mean()\n",
    "total_mean = data['Total'].mean()\n",
    "\n",
    "from prettytable import PrettyTable\n",
    "\n",
    "table = PrettyTable()\n",
    "table.field_names = ['НАЗВАНИЕ', 'РЕЗУЛЬТАТ']\n",
    "table.add_row(['emojixpress_mean', str(round(emojixpress_mean, 2))])\n",
    "table.add_row(['instagram_mean', str(round(instagram_mean, 2))])\n",
    "table.add_row(['twitter_mean', str(round(twitter_mean, 2))])\n",
    "table.add_row(['total_mean', str(round(total_mean, 2))])\n",
    "print(table)"
   ],
   "metadata": {
    "collapsed": false
   }
  },
  {
   "cell_type": "code",
   "execution_count": 20,
   "outputs": [
    {
     "name": "stdout",
     "output_type": "stream",
     "text": [
      "+------------------+------------------+\n",
      "|     НАЗВАНИЕ     | emojixpress, млн |\n",
      "+------------------+------------------+\n",
      "|  Слёзы радости   |      233.0       |\n",
      "|      Сердце      |      118.0       |\n",
      "|      Целую       |       87.5       |\n",
      "|   Глаза-сердца   |       64.6       |\n",
      "| Катаюсь от смеха |       25.6       |\n",
      "+------------------+------------------+\n",
      "+---------------+----------------+\n",
      "|    НАЗВАНИЕ   | instagram, млн |\n",
      "+---------------+----------------+\n",
      "|     Сердце    |      26.0      |\n",
      "|  Глаза-сердца |      11.2      |\n",
      "| Слёзы радости |      7.31      |\n",
      "|   Два сердца  |      5.69      |\n",
      "|     Целую     |      5.13      |\n",
      "+---------------+----------------+\n",
      "+---------------+--------------+\n",
      "|    НАЗВАНИЕ   | твиттер, млн |\n",
      "+---------------+--------------+\n",
      "| Слёзы радости |    2270.0    |\n",
      "|     Сердце    |    1080.0    |\n",
      "|  Переработка  |    932.0     |\n",
      "|  Глаза-сердца |    834.0     |\n",
      "|     Червы     |    697.0     |\n",
      "+---------------+--------------+\n",
      "+---------------+---------+\n",
      "|    НАЗВАНИЕ   |  total  |\n",
      "+---------------+---------+\n",
      "| Слёзы радости | 2510.31 |\n",
      "|     Сердце    |  1224.0 |\n",
      "|  Переработка  |  932.09 |\n",
      "|  Глаза-сердца |  909.8  |\n",
      "|     Червы     |  702.13 |\n",
      "+---------------+---------+\n",
      "+---------------+----------------------+\n",
      "|    НАЗВАНИЕ   | индекс использования |\n",
      "+---------------+----------------------+\n",
      "| Слёзы радости |        24.28         |\n",
      "|     Сердце    |        11.84         |\n",
      "|  Переработка  |         9.02         |\n",
      "|  Глаза-сердца |         8.8          |\n",
      "|     Червы     |         6.79         |\n",
      "+---------------+----------------------+\n"
     ]
    }
   ],
   "source": [
    "data['Индекс использования'] = 100 * data['Total'] / sum(data['Total'])\n",
    "\n",
    "def table_create(name:str):\n",
    "    new_data = data.sort_values(by=name, ascending=False)\n",
    "    table = PrettyTable()\n",
    "    table.field_names = ['НАЗВАНИЕ', name.lower()]\n",
    "    for i in range(5):\n",
    "        table.add_row([new_data['Название'].iloc[i], str(round(new_data[name].iloc[i], 2))])\n",
    "    print(table)\n",
    "\n",
    "table_create('EMOJIXPRESS, МЛН')\n",
    "table_create('INSTAGRAM, МЛН')\n",
    "table_create('ТВИТТЕР, МЛН')\n",
    "table_create('Total')\n",
    "table_create('Индекс использования')"
   ],
   "metadata": {
    "collapsed": false
   }
  }
 ],
 "metadata": {
  "kernelspec": {
   "display_name": "Python 3",
   "language": "python",
   "name": "python3"
  },
  "language_info": {
   "codemirror_mode": {
    "name": "ipython",
    "version": 2
   },
   "file_extension": ".py",
   "mimetype": "text/x-python",
   "name": "python",
   "nbconvert_exporter": "python",
   "pygments_lexer": "ipython2",
   "version": "2.7.6"
  }
 },
 "nbformat": 4,
 "nbformat_minor": 0
}
