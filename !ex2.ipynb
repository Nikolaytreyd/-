{
 "cells": [
  {
   "cell_type": "code",
   "execution_count": 16,
   "metadata": {
    "collapsed": true
   },
   "outputs": [
    {
     "name": "stdout",
     "output_type": "stream",
     "text": [
      "1.02\n",
      "1.69\n",
      "0.774\n",
      "7.31\n",
      "2.36\n",
      "4.26\n",
      "11.2\n",
      "5.13\n",
      "0.636\n",
      "0.236\n",
      "3.93\n",
      "1.35\n",
      "2.87\n",
      "5.69\n",
      "26.0\n",
      "1.82\n",
      "3.75\n",
      "0.11\n",
      "2.49\n",
      "0.056\n"
     ]
    }
   ],
   "source": [
    "from pandas import DataFrame as df\n",
    "import pandas as pd\n",
    "\n",
    "\n",
    "data = pd.read_excel(r'D:\\6. Учеба\\1 курс\\1 курс\\5. Программирование\\ex_beginer_python\\ex_2_1.xlsx')\n",
    "\n",
    "for i in list(data['INSTAGRAM, МЛН']):\n",
    "    print(i)"
   ]
  },
  {
   "cell_type": "code",
   "execution_count": 17,
   "outputs": [
    {
     "data": {
      "text/plain": "            НАЗВАНИЕ НАЗВАНИЕ, АНГЛ.  ЗНАЧОК  EMOJIXPRESS, МЛН  \\\n0          Ухмыляюсь        Grinning     NaN            2.2600   \n1    Сияю от радости         Beaming     NaN           19.1000   \n2   Катаюсь от смеха            ROFL     NaN           25.6000   \n3      Слёзы радости    Tears of Joy     NaN          233.0000   \n4         Подмигиваю         Winking     NaN           15.2000   \n5           Счастлив           Happy     NaN           22.7000   \n6       Глаза-сердца      Heart Eyes     NaN           64.6000   \n7              Целую         Kissing     NaN           87.5000   \n8       Задумчивость        Thinking     NaN            6.8100   \n9         Равнодушие        Unamused     NaN            6.0000   \n10    Солнечные очки      Sunglasses     NaN            4.7200   \n11      Громко плачу   Loudly Crying     NaN           24.7000   \n12   След от поцелуя       Kiss Mark     NaN           21.7000   \n13        Два сердца      Two Hearts     NaN           10.0000   \n14            Сердце           Heart     NaN          118.0000   \n15             Червы      Heart Suit     NaN            3.3100   \n16             Класс       Thumbs Up     NaN           23.1000   \n17   Пожимаю плечами       Shrugging     NaN            1.7400   \n18             Огонь            Fire     NaN            4.5000   \n19       Переработка         Recycle     NaN            0.0333   \n\n    INSTAGRAM, МЛН ТВИТТЕР, МЛН  \n0            1.020         87.3  \n1            1.690          150  \n2            0.774           0*  \n3            7.310         2270  \n4            2.360          264  \n5            4.260          565  \n6           11.200          834  \n7            5.130          432  \n8            0.636           0*  \n9            0.236          478  \n10           3.930          198  \n11           1.350          654  \n12           2.870         98.7  \n13           5.690          445  \n14          26.000         1080  \n15           1.820          697  \n16           3.750          227  \n17           0.110           0*  \n18           2.490          150  \n19           0.056          932  ",
      "text/html": "<div>\n<style scoped>\n    .dataframe tbody tr th:only-of-type {\n        vertical-align: middle;\n    }\n\n    .dataframe tbody tr th {\n        vertical-align: top;\n    }\n\n    .dataframe thead th {\n        text-align: right;\n    }\n</style>\n<table border=\"1\" class=\"dataframe\">\n  <thead>\n    <tr style=\"text-align: right;\">\n      <th></th>\n      <th>НАЗВАНИЕ</th>\n      <th>НАЗВАНИЕ, АНГЛ.</th>\n      <th>ЗНАЧОК</th>\n      <th>EMOJIXPRESS, МЛН</th>\n      <th>INSTAGRAM, МЛН</th>\n      <th>ТВИТТЕР, МЛН</th>\n    </tr>\n  </thead>\n  <tbody>\n    <tr>\n      <th>0</th>\n      <td>Ухмыляюсь</td>\n      <td>Grinning</td>\n      <td>NaN</td>\n      <td>2.2600</td>\n      <td>1.020</td>\n      <td>87.3</td>\n    </tr>\n    <tr>\n      <th>1</th>\n      <td>Сияю от радости</td>\n      <td>Beaming</td>\n      <td>NaN</td>\n      <td>19.1000</td>\n      <td>1.690</td>\n      <td>150</td>\n    </tr>\n    <tr>\n      <th>2</th>\n      <td>Катаюсь от смеха</td>\n      <td>ROFL</td>\n      <td>NaN</td>\n      <td>25.6000</td>\n      <td>0.774</td>\n      <td>0*</td>\n    </tr>\n    <tr>\n      <th>3</th>\n      <td>Слёзы радости</td>\n      <td>Tears of Joy</td>\n      <td>NaN</td>\n      <td>233.0000</td>\n      <td>7.310</td>\n      <td>2270</td>\n    </tr>\n    <tr>\n      <th>4</th>\n      <td>Подмигиваю</td>\n      <td>Winking</td>\n      <td>NaN</td>\n      <td>15.2000</td>\n      <td>2.360</td>\n      <td>264</td>\n    </tr>\n    <tr>\n      <th>5</th>\n      <td>Счастлив</td>\n      <td>Happy</td>\n      <td>NaN</td>\n      <td>22.7000</td>\n      <td>4.260</td>\n      <td>565</td>\n    </tr>\n    <tr>\n      <th>6</th>\n      <td>Глаза-сердца</td>\n      <td>Heart Eyes</td>\n      <td>NaN</td>\n      <td>64.6000</td>\n      <td>11.200</td>\n      <td>834</td>\n    </tr>\n    <tr>\n      <th>7</th>\n      <td>Целую</td>\n      <td>Kissing</td>\n      <td>NaN</td>\n      <td>87.5000</td>\n      <td>5.130</td>\n      <td>432</td>\n    </tr>\n    <tr>\n      <th>8</th>\n      <td>Задумчивость</td>\n      <td>Thinking</td>\n      <td>NaN</td>\n      <td>6.8100</td>\n      <td>0.636</td>\n      <td>0*</td>\n    </tr>\n    <tr>\n      <th>9</th>\n      <td>Равнодушие</td>\n      <td>Unamused</td>\n      <td>NaN</td>\n      <td>6.0000</td>\n      <td>0.236</td>\n      <td>478</td>\n    </tr>\n    <tr>\n      <th>10</th>\n      <td>Солнечные очки</td>\n      <td>Sunglasses</td>\n      <td>NaN</td>\n      <td>4.7200</td>\n      <td>3.930</td>\n      <td>198</td>\n    </tr>\n    <tr>\n      <th>11</th>\n      <td>Громко плачу</td>\n      <td>Loudly Crying</td>\n      <td>NaN</td>\n      <td>24.7000</td>\n      <td>1.350</td>\n      <td>654</td>\n    </tr>\n    <tr>\n      <th>12</th>\n      <td>След от поцелуя</td>\n      <td>Kiss Mark</td>\n      <td>NaN</td>\n      <td>21.7000</td>\n      <td>2.870</td>\n      <td>98.7</td>\n    </tr>\n    <tr>\n      <th>13</th>\n      <td>Два сердца</td>\n      <td>Two Hearts</td>\n      <td>NaN</td>\n      <td>10.0000</td>\n      <td>5.690</td>\n      <td>445</td>\n    </tr>\n    <tr>\n      <th>14</th>\n      <td>Сердце</td>\n      <td>Heart</td>\n      <td>NaN</td>\n      <td>118.0000</td>\n      <td>26.000</td>\n      <td>1080</td>\n    </tr>\n    <tr>\n      <th>15</th>\n      <td>Червы</td>\n      <td>Heart Suit</td>\n      <td>NaN</td>\n      <td>3.3100</td>\n      <td>1.820</td>\n      <td>697</td>\n    </tr>\n    <tr>\n      <th>16</th>\n      <td>Класс</td>\n      <td>Thumbs Up</td>\n      <td>NaN</td>\n      <td>23.1000</td>\n      <td>3.750</td>\n      <td>227</td>\n    </tr>\n    <tr>\n      <th>17</th>\n      <td>Пожимаю плечами</td>\n      <td>Shrugging</td>\n      <td>NaN</td>\n      <td>1.7400</td>\n      <td>0.110</td>\n      <td>0*</td>\n    </tr>\n    <tr>\n      <th>18</th>\n      <td>Огонь</td>\n      <td>Fire</td>\n      <td>NaN</td>\n      <td>4.5000</td>\n      <td>2.490</td>\n      <td>150</td>\n    </tr>\n    <tr>\n      <th>19</th>\n      <td>Переработка</td>\n      <td>Recycle</td>\n      <td>NaN</td>\n      <td>0.0333</td>\n      <td>0.056</td>\n      <td>932</td>\n    </tr>\n  </tbody>\n</table>\n</div>"
     },
     "execution_count": 17,
     "metadata": {},
     "output_type": "execute_result"
    }
   ],
   "source": [
    "data"
   ],
   "metadata": {
    "collapsed": false
   }
  },
  {
   "cell_type": "code",
   "execution_count": 18,
   "outputs": [
    {
     "data": {
      "text/plain": "([1.7, 3.0, 0.0, 44.7, 5.2, 11.1, 16.4, 8.5, 0.0, 9.4],\n [0.5, 4.0, 5.3, 48.3, 3.1, 4.7, 13.4, 18.1, 1.4, 1.2])"
     },
     "execution_count": 18,
     "metadata": {},
     "output_type": "execute_result"
    }
   ],
   "source": [
    "def value_mod(data: list) -> list:\n",
    "    return [round(100*i/sum(data), 1) for i in data]\n",
    "\n",
    "twitter = [87.3, 150.0, 0.0, 2270.0, 264.0, 565.0, 834.0, 432.0, 0.0, 478.0]\n",
    "\n",
    "emojixpress = [2.26, 19.1, 25.6, 233.0, 15.2, 22.7, 64.6, 87.5, 6.81, 6.0]\n",
    "\n",
    "part_1 = value_mod(twitter)\n",
    "part_2 = value_mod(emojixpress)\n",
    "\n",
    "part_1, part_2"
   ],
   "metadata": {
    "collapsed": false
   }
  },
  {
   "cell_type": "code",
   "execution_count": 19,
   "outputs": [
    {
     "data": {
      "text/plain": "9208.5"
     },
     "execution_count": 19,
     "metadata": {},
     "output_type": "execute_result"
    }
   ],
   "source": [
    "def summ_position(index:id):\n",
    "    return data.iloc[index]['INSTAGRAM, МЛН'] + data.iloc[index]['EMOJIXPRESS, МЛН'] +  data.iloc[index]['ТВИТТЕР, МЛН']\n",
    "\n",
    "from random import randint\n",
    "\n",
    "result = 0\n",
    "\n",
    "for _ in range(randint(1, 10)):\n",
    "    result += summ_position(randint(0, 17))\n",
    "\n",
    "result"
   ],
   "metadata": {
    "collapsed": false
   }
  },
  {
   "cell_type": "code",
   "execution_count": 20,
   "outputs": [
    {
     "data": {
      "text/plain": "'Beaming'"
     },
     "execution_count": 20,
     "metadata": {},
     "output_type": "execute_result"
    }
   ],
   "source": [
    "data.iloc[1][1]"
   ],
   "metadata": {
    "collapsed": false
   }
  }
 ],
 "metadata": {
  "kernelspec": {
   "display_name": "Python 3",
   "language": "python",
   "name": "python3"
  },
  "language_info": {
   "codemirror_mode": {
    "name": "ipython",
    "version": 2
   },
   "file_extension": ".py",
   "mimetype": "text/x-python",
   "name": "python",
   "nbconvert_exporter": "python",
   "pygments_lexer": "ipython2",
   "version": "2.7.6"
  }
 },
 "nbformat": 4,
 "nbformat_minor": 0
}
