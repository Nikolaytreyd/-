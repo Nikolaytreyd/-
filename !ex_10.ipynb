{
 "cells": [
  {
   "cell_type": "markdown",
   "metadata": {},
   "source": [
    "Импортируем библиотеку pandas:"
   ]
  },
  {
   "cell_type": "code",
   "execution_count": 2,
   "metadata": {},
   "outputs": [],
   "source": [
    "import pandas as pd"
   ]
  },
  {
   "cell_type": "markdown",
   "metadata": {},
   "source": [
    "Если надоедает писать print(), то можно в начале блокнота вставить команды:"
   ]
  },
  {
   "cell_type": "code",
   "execution_count": 3,
   "metadata": {},
   "outputs": [],
   "source": [
    "from IPython.core.interactiveshell import InteractiveShell\n",
    "InteractiveShell.ast_node_interactivity = \"all\""
   ]
  },
  {
   "cell_type": "markdown",
   "source": [
    "Данные с прошлых занятий:"
   ],
   "metadata": {
    "collapsed": false
   }
  },
  {
   "cell_type": "code",
   "execution_count": 34,
   "outputs": [
    {
     "data": {
      "text/plain": "                               Название   Год  Рейтинг  Длина, мин.  \\\n0   Форма воды                           2017    6.914          123   \n1   Лунный свет                          2016    6.151          110   \n2   В центре внимания                    2015    7.489          129   \n3   Бёрдмэн                              2014    7.604          119   \n4   12 лет рабства                       2013    7.710          133   \n5   Операция «Арго»                      2012    7.517          120   \n6   Артист                               2011    7.942           96   \n7   Король говорит!                      2010    7.977          118   \n8   Повелитель бури                      2008    7.298          126   \n9   Миллионер из трущоб                  2008    7.724          120   \n10  Старикам тут не место                2007    7.726          122   \n11  Отступники                           2006    8.456          151   \n12  Столкновение                         2004    7.896          108   \n13  Малышка на миллион                   2004    8.075          132   \n14  Властелин колец: Возвращение Короля  2003    8.617          201   \n15  Чикаго                               2002    7.669          113   \n16  Игры разума                          2001    8.557          135   \n17  Гладиатор                            2000    8.585          155   \n18  Красота по-американски               1999    7.965          122   \n19  Влюбленный Шекспир                   1998    7.452          123   \n20  Титаник                              1997    8.369          194   \n21  Английский пациент                   1996    7.849          155   \n22  Храброе сердце                       1995    8.283          178   \n23  Форрест Гамп                         1994    8.915          142   \n24  Список Шиндлера                      1993    8.819          195   \n25  Непрощенный                          1992    7.858          131   \n26  Молчание ягнят                       1990    8.335          114   \n27  Танцующий с волками                  1990    8.112          181   \n28  Шофёр мисс Дэйзи                     1989    7.645           99   \n29  Человек дождя                        1988    8.250          133   \n\n                                         Жанр  Бюджет, \\$ млн  Сборы, \\$ млн  \n0   фантастика, драма                                    19.4     195.243464  \n1    драма                                                1.5      65.046687  \n2     драма, криминал, история                           20.0      88.346473  \n3               драма, комедия                           18.0     103.215094  \n4     драма, биография, история                          20.0     178.371993  \n5     триллер, драма, биография                          44.5     232.324128  \n6     драма, мелодрама, комедия                          15.0     133.432856  \n7     драма, биография, история                          15.0     414.211549  \n8    триллер, драма, военный, история                    15.0      49.230772  \n9               драма, мелодрама                         15.0     377.910544  \n10    триллер, драма, криминал                           25.0     171.627166  \n11    триллер, драма, криминал                           90.0     289.847354  \n12    триллер, драма, криминал                            6.5      98.410061  \n13               драма, спорт                            30.0     216.763646  \n14   фэнтези, драма, приключения                         94.0    1119.110941  \n15    мюзикл, комедия, криминал                          45.0     306.776732  \n16   драма, биография, мелодрама                         58.0     313.542341  \n17    боевик, драма, приключения                        103.0     457.640427  \n18              драма                                    15.0     356.296601  \n19   драма, мелодрама, комедия, история                  25.0     289.317794  \n20  драма, мелодрама                                    200.0    2185.372302  \n21   драма, мелодрама, военный                           27.0     231.976425  \n22  драма, военный, биография, история                   72.0     210.409945  \n23  драма, мелодрама                                     55.0     677.386686  \n24  драма, биография, история                            22.0     321.265768  \n25  драма, вестерн                                       14.4     159.157447  \n26  триллер, криминал, детектив, драма, ужасы            19.0     272.742922  \n27   драма, приключения, вестерн                         22.0     424.208848  \n28  драма                                                 7.5     145.793296  \n29  драма                                                25.0     354.825435  ",
      "text/html": "<div>\n<style scoped>\n    .dataframe tbody tr th:only-of-type {\n        vertical-align: middle;\n    }\n\n    .dataframe tbody tr th {\n        vertical-align: top;\n    }\n\n    .dataframe thead th {\n        text-align: right;\n    }\n</style>\n<table border=\"1\" class=\"dataframe\">\n  <thead>\n    <tr style=\"text-align: right;\">\n      <th></th>\n      <th>Название</th>\n      <th>Год</th>\n      <th>Рейтинг</th>\n      <th>Длина, мин.</th>\n      <th>Жанр</th>\n      <th>Бюджет, \\$ млн</th>\n      <th>Сборы, \\$ млн</th>\n    </tr>\n  </thead>\n  <tbody>\n    <tr>\n      <th>0</th>\n      <td>Форма воды</td>\n      <td>2017</td>\n      <td>6.914</td>\n      <td>123</td>\n      <td>фантастика, драма</td>\n      <td>19.4</td>\n      <td>195.243464</td>\n    </tr>\n    <tr>\n      <th>1</th>\n      <td>Лунный свет</td>\n      <td>2016</td>\n      <td>6.151</td>\n      <td>110</td>\n      <td>драма</td>\n      <td>1.5</td>\n      <td>65.046687</td>\n    </tr>\n    <tr>\n      <th>2</th>\n      <td>В центре внимания</td>\n      <td>2015</td>\n      <td>7.489</td>\n      <td>129</td>\n      <td>драма, криминал, история</td>\n      <td>20.0</td>\n      <td>88.346473</td>\n    </tr>\n    <tr>\n      <th>3</th>\n      <td>Бёрдмэн</td>\n      <td>2014</td>\n      <td>7.604</td>\n      <td>119</td>\n      <td>драма, комедия</td>\n      <td>18.0</td>\n      <td>103.215094</td>\n    </tr>\n    <tr>\n      <th>4</th>\n      <td>12 лет рабства</td>\n      <td>2013</td>\n      <td>7.710</td>\n      <td>133</td>\n      <td>драма, биография, история</td>\n      <td>20.0</td>\n      <td>178.371993</td>\n    </tr>\n    <tr>\n      <th>5</th>\n      <td>Операция «Арго»</td>\n      <td>2012</td>\n      <td>7.517</td>\n      <td>120</td>\n      <td>триллер, драма, биография</td>\n      <td>44.5</td>\n      <td>232.324128</td>\n    </tr>\n    <tr>\n      <th>6</th>\n      <td>Артист</td>\n      <td>2011</td>\n      <td>7.942</td>\n      <td>96</td>\n      <td>драма, мелодрама, комедия</td>\n      <td>15.0</td>\n      <td>133.432856</td>\n    </tr>\n    <tr>\n      <th>7</th>\n      <td>Король говорит!</td>\n      <td>2010</td>\n      <td>7.977</td>\n      <td>118</td>\n      <td>драма, биография, история</td>\n      <td>15.0</td>\n      <td>414.211549</td>\n    </tr>\n    <tr>\n      <th>8</th>\n      <td>Повелитель бури</td>\n      <td>2008</td>\n      <td>7.298</td>\n      <td>126</td>\n      <td>триллер, драма, военный, история</td>\n      <td>15.0</td>\n      <td>49.230772</td>\n    </tr>\n    <tr>\n      <th>9</th>\n      <td>Миллионер из трущоб</td>\n      <td>2008</td>\n      <td>7.724</td>\n      <td>120</td>\n      <td>драма, мелодрама</td>\n      <td>15.0</td>\n      <td>377.910544</td>\n    </tr>\n    <tr>\n      <th>10</th>\n      <td>Старикам тут не место</td>\n      <td>2007</td>\n      <td>7.726</td>\n      <td>122</td>\n      <td>триллер, драма, криминал</td>\n      <td>25.0</td>\n      <td>171.627166</td>\n    </tr>\n    <tr>\n      <th>11</th>\n      <td>Отступники</td>\n      <td>2006</td>\n      <td>8.456</td>\n      <td>151</td>\n      <td>триллер, драма, криминал</td>\n      <td>90.0</td>\n      <td>289.847354</td>\n    </tr>\n    <tr>\n      <th>12</th>\n      <td>Столкновение</td>\n      <td>2004</td>\n      <td>7.896</td>\n      <td>108</td>\n      <td>триллер, драма, криминал</td>\n      <td>6.5</td>\n      <td>98.410061</td>\n    </tr>\n    <tr>\n      <th>13</th>\n      <td>Малышка на миллион</td>\n      <td>2004</td>\n      <td>8.075</td>\n      <td>132</td>\n      <td>драма, спорт</td>\n      <td>30.0</td>\n      <td>216.763646</td>\n    </tr>\n    <tr>\n      <th>14</th>\n      <td>Властелин колец: Возвращение Короля</td>\n      <td>2003</td>\n      <td>8.617</td>\n      <td>201</td>\n      <td>фэнтези, драма, приключения</td>\n      <td>94.0</td>\n      <td>1119.110941</td>\n    </tr>\n    <tr>\n      <th>15</th>\n      <td>Чикаго</td>\n      <td>2002</td>\n      <td>7.669</td>\n      <td>113</td>\n      <td>мюзикл, комедия, криминал</td>\n      <td>45.0</td>\n      <td>306.776732</td>\n    </tr>\n    <tr>\n      <th>16</th>\n      <td>Игры разума</td>\n      <td>2001</td>\n      <td>8.557</td>\n      <td>135</td>\n      <td>драма, биография, мелодрама</td>\n      <td>58.0</td>\n      <td>313.542341</td>\n    </tr>\n    <tr>\n      <th>17</th>\n      <td>Гладиатор</td>\n      <td>2000</td>\n      <td>8.585</td>\n      <td>155</td>\n      <td>боевик, драма, приключения</td>\n      <td>103.0</td>\n      <td>457.640427</td>\n    </tr>\n    <tr>\n      <th>18</th>\n      <td>Красота по-американски</td>\n      <td>1999</td>\n      <td>7.965</td>\n      <td>122</td>\n      <td>драма</td>\n      <td>15.0</td>\n      <td>356.296601</td>\n    </tr>\n    <tr>\n      <th>19</th>\n      <td>Влюбленный Шекспир</td>\n      <td>1998</td>\n      <td>7.452</td>\n      <td>123</td>\n      <td>драма, мелодрама, комедия, история</td>\n      <td>25.0</td>\n      <td>289.317794</td>\n    </tr>\n    <tr>\n      <th>20</th>\n      <td>Титаник</td>\n      <td>1997</td>\n      <td>8.369</td>\n      <td>194</td>\n      <td>драма, мелодрама</td>\n      <td>200.0</td>\n      <td>2185.372302</td>\n    </tr>\n    <tr>\n      <th>21</th>\n      <td>Английский пациент</td>\n      <td>1996</td>\n      <td>7.849</td>\n      <td>155</td>\n      <td>драма, мелодрама, военный</td>\n      <td>27.0</td>\n      <td>231.976425</td>\n    </tr>\n    <tr>\n      <th>22</th>\n      <td>Храброе сердце</td>\n      <td>1995</td>\n      <td>8.283</td>\n      <td>178</td>\n      <td>драма, военный, биография, история</td>\n      <td>72.0</td>\n      <td>210.409945</td>\n    </tr>\n    <tr>\n      <th>23</th>\n      <td>Форрест Гамп</td>\n      <td>1994</td>\n      <td>8.915</td>\n      <td>142</td>\n      <td>драма, мелодрама</td>\n      <td>55.0</td>\n      <td>677.386686</td>\n    </tr>\n    <tr>\n      <th>24</th>\n      <td>Список Шиндлера</td>\n      <td>1993</td>\n      <td>8.819</td>\n      <td>195</td>\n      <td>драма, биография, история</td>\n      <td>22.0</td>\n      <td>321.265768</td>\n    </tr>\n    <tr>\n      <th>25</th>\n      <td>Непрощенный</td>\n      <td>1992</td>\n      <td>7.858</td>\n      <td>131</td>\n      <td>драма, вестерн</td>\n      <td>14.4</td>\n      <td>159.157447</td>\n    </tr>\n    <tr>\n      <th>26</th>\n      <td>Молчание ягнят</td>\n      <td>1990</td>\n      <td>8.335</td>\n      <td>114</td>\n      <td>триллер, криминал, детектив, драма, ужасы</td>\n      <td>19.0</td>\n      <td>272.742922</td>\n    </tr>\n    <tr>\n      <th>27</th>\n      <td>Танцующий с волками</td>\n      <td>1990</td>\n      <td>8.112</td>\n      <td>181</td>\n      <td>драма, приключения, вестерн</td>\n      <td>22.0</td>\n      <td>424.208848</td>\n    </tr>\n    <tr>\n      <th>28</th>\n      <td>Шофёр мисс Дэйзи</td>\n      <td>1989</td>\n      <td>7.645</td>\n      <td>99</td>\n      <td>драма</td>\n      <td>7.5</td>\n      <td>145.793296</td>\n    </tr>\n    <tr>\n      <th>29</th>\n      <td>Человек дождя</td>\n      <td>1988</td>\n      <td>8.250</td>\n      <td>133</td>\n      <td>драма</td>\n      <td>25.0</td>\n      <td>354.825435</td>\n    </tr>\n  </tbody>\n</table>\n</div>"
     },
     "execution_count": 34,
     "metadata": {},
     "output_type": "execute_result"
    }
   ],
   "source": [
    "data=pd.read_excel('movies.xlsx', dtype={'b': int, 'e': str})\n",
    "# теперь можно не использовать print() для вывода, так кстати фреймы данных выглядят как аккуратные таблички:\n",
    "data"
   ],
   "metadata": {
    "collapsed": false
   }
  },
  {
   "cell_type": "markdown",
   "metadata": {},
   "source": [
    "## Задача\n",
    "Напишите функцию filter_without_genre(). Она должна печатать из таблицы все фильмы не содержащие заданного жанра. Аргументы этой функции: таблица с фильмами и жанр, который нужно исключить. \n",
    "Вызовите написанную функцию, чтобы найти в таблице все фильмы без жанра «драма»."
   ]
  },
  {
   "cell_type": "code",
   "execution_count": 39,
   "outputs": [
    {
     "data": {
      "text/plain": "['Чикаго                             ']"
     },
     "execution_count": 39,
     "metadata": {},
     "output_type": "execute_result"
    }
   ],
   "source": [
    "def filter_without_genre(genre:str) -> list:\n",
    "    index = [i for i in range(len(data))]\n",
    "    mass = []\n",
    "    for id, name in zip(index, list(data['Жанр'].tolist())):\n",
    "        if not genre in name:\n",
    "            mass.append(data['Название'].iloc[id])\n",
    "    return mass\n",
    "\n",
    "filter_without_genre('драма')"
   ],
   "metadata": {
    "collapsed": false
   }
  },
  {
   "cell_type": "markdown",
   "metadata": {},
   "source": [
    "## Задача\n",
    "Воспользуйтесь оператором and, чтобы найти и напечатать в таблице все исторические фильмы новее 2000 года"
   ]
  },
  {
   "cell_type": "code",
   "execution_count": 40,
   "metadata": {},
   "outputs": [
    {
     "data": {
      "text/plain": "['Форма воды                         ',\n 'Лунный свет                        ',\n 'В центре внимания                  ',\n 'Бёрдмэн                            ',\n '12 лет рабства                     ',\n 'Операция «Арго»                    ',\n 'Артист                             ',\n 'Король говорит!                    ',\n 'Повелитель бури                    ',\n 'Миллионер из трущоб                ',\n 'Старикам тут не место              ',\n 'Отступники                         ',\n 'Столкновение                       ',\n 'Малышка на миллион                 ',\n 'Властелин колец: Возвращение Короля',\n 'Игры разума                        ']"
     },
     "execution_count": 40,
     "metadata": {},
     "output_type": "execute_result"
    }
   ],
   "source": [
    "def filter_without_genre_data(genre:str, date:int=2000) -> list:\n",
    "    index = [i for i in range(len(data))]\n",
    "    mass = []\n",
    "    for id, name in zip(index, list(data['Жанр'].tolist())):\n",
    "        if genre in name and data['Год'].iloc[id] > date:\n",
    "            mass.append(data['Название'].iloc[id])\n",
    "    return mass\n",
    "\n",
    "filter_without_genre('драма')"
   ]
  },
  {
   "cell_type": "markdown",
   "metadata": {},
   "source": [
    "## Задача\n",
    "\n",
    "Найдите в таблице все фильмы жанров «фэнтези» и «фантастика»:"
   ]
  },
  {
   "cell_type": "code",
   "execution_count": 57,
   "metadata": {},
   "outputs": [
    {
     "data": {
      "text/plain": "                               Название   Год  Рейтинг  Длина, мин.  \\\n2   В центре внимания                    2015    7.489          129   \n10  Старикам тут не место                2007    7.726          122   \n11  Отступники                           2006    8.456          151   \n12  Столкновение                         2004    7.896          108   \n13  Малышка на миллион                   2004    8.075          132   \n15  Чикаго                               2002    7.669          113   \n26  Молчание ягнят                       1990    8.335          114   \n\n                                         Жанр  Бюджет, \\$ млн  Сборы, \\$ млн  \n2     драма, криминал, история                           20.0      88.346473  \n10    триллер, драма, криминал                           25.0     171.627166  \n11    триллер, драма, криминал                           90.0     289.847354  \n12    триллер, драма, криминал                            6.5      98.410061  \n13               драма, спорт                            30.0     216.763646  \n15    мюзикл, комедия, криминал                          45.0     306.776732  \n26  триллер, криминал, детектив, драма, ужасы            19.0     272.742922  ",
      "text/html": "<div>\n<style scoped>\n    .dataframe tbody tr th:only-of-type {\n        vertical-align: middle;\n    }\n\n    .dataframe tbody tr th {\n        vertical-align: top;\n    }\n\n    .dataframe thead th {\n        text-align: right;\n    }\n</style>\n<table border=\"1\" class=\"dataframe\">\n  <thead>\n    <tr style=\"text-align: right;\">\n      <th></th>\n      <th>Название</th>\n      <th>Год</th>\n      <th>Рейтинг</th>\n      <th>Длина, мин.</th>\n      <th>Жанр</th>\n      <th>Бюджет, \\$ млн</th>\n      <th>Сборы, \\$ млн</th>\n    </tr>\n  </thead>\n  <tbody>\n    <tr>\n      <th>2</th>\n      <td>В центре внимания</td>\n      <td>2015</td>\n      <td>7.489</td>\n      <td>129</td>\n      <td>драма, криминал, история</td>\n      <td>20.0</td>\n      <td>88.346473</td>\n    </tr>\n    <tr>\n      <th>10</th>\n      <td>Старикам тут не место</td>\n      <td>2007</td>\n      <td>7.726</td>\n      <td>122</td>\n      <td>триллер, драма, криминал</td>\n      <td>25.0</td>\n      <td>171.627166</td>\n    </tr>\n    <tr>\n      <th>11</th>\n      <td>Отступники</td>\n      <td>2006</td>\n      <td>8.456</td>\n      <td>151</td>\n      <td>триллер, драма, криминал</td>\n      <td>90.0</td>\n      <td>289.847354</td>\n    </tr>\n    <tr>\n      <th>12</th>\n      <td>Столкновение</td>\n      <td>2004</td>\n      <td>7.896</td>\n      <td>108</td>\n      <td>триллер, драма, криминал</td>\n      <td>6.5</td>\n      <td>98.410061</td>\n    </tr>\n    <tr>\n      <th>13</th>\n      <td>Малышка на миллион</td>\n      <td>2004</td>\n      <td>8.075</td>\n      <td>132</td>\n      <td>драма, спорт</td>\n      <td>30.0</td>\n      <td>216.763646</td>\n    </tr>\n    <tr>\n      <th>15</th>\n      <td>Чикаго</td>\n      <td>2002</td>\n      <td>7.669</td>\n      <td>113</td>\n      <td>мюзикл, комедия, криминал</td>\n      <td>45.0</td>\n      <td>306.776732</td>\n    </tr>\n    <tr>\n      <th>26</th>\n      <td>Молчание ягнят</td>\n      <td>1990</td>\n      <td>8.335</td>\n      <td>114</td>\n      <td>триллер, криминал, детектив, драма, ужасы</td>\n      <td>19.0</td>\n      <td>272.742922</td>\n    </tr>\n  </tbody>\n</table>\n</div>"
     },
     "execution_count": 57,
     "metadata": {},
     "output_type": "execute_result"
    }
   ],
   "source": [
    "def filter_genre(option:bool, *args:str) -> list:\n",
    "    \"\"\"\n",
    "    :param option:  Опция фильтра, если True то будут искаться фильмы имеющий строго заданный(ые) жанр(ы)\n",
    "                    Если False - нестрогий поиск жанра.\n",
    "    :param args:    Жанры поиска\n",
    "    :return: результаты поиска\n",
    "    \"\"\"\n",
    "\n",
    "    index = [i for i in range(len(data))]\n",
    "    mass = []\n",
    "    genre_list = list(args)\n",
    "\n",
    "    for id, name in zip(index, list(data['Жанр'].tolist())):\n",
    "        status = []\n",
    "        for genre in genre_list:\n",
    "            if genre in name:\n",
    "                status.append(True)\n",
    "            else:\n",
    "                status.append(False)\n",
    "        if option:\n",
    "            if status.count(True) == len(status):\n",
    "                mass.append(data['Название'].iloc[id])\n",
    "        else:\n",
    "            if status.count(True) >= 1:\n",
    "               mass.append(data['Название'].iloc[id])\n",
    "        status = []\n",
    "    return mass\n",
    "\n",
    "# filter_genre(False, 'спорт', 'криминал') # Возвращает массив имен фильмов\n",
    "filtered_data = data[data['Название'].isin(filter_genre(False, 'спорт', 'криминал'))]\n",
    "filtered_data"
   ]
  },
  {
   "cell_type": "markdown",
   "metadata": {},
   "source": [
    "## Задача\n",
    "Напишите функцию filter_suspense(), которая находит фильмы самых напряжённых жанров: «триллер» или «ужасы». Функция должна принимать как аргумент исходную таблицу и, не меняя её, возвращать отфильтрованную."
   ]
  },
  {
   "cell_type": "code",
   "execution_count": 58,
   "metadata": {},
   "outputs": [
    {
     "data": {
      "text/plain": "                               Название   Год  Рейтинг  Длина, мин.  \\\n5   Операция «Арго»                      2012    7.517          120   \n8   Повелитель бури                      2008    7.298          126   \n10  Старикам тут не место                2007    7.726          122   \n11  Отступники                           2006    8.456          151   \n12  Столкновение                         2004    7.896          108   \n26  Молчание ягнят                       1990    8.335          114   \n\n                                         Жанр  Бюджет, \\$ млн  Сборы, \\$ млн  \n5     триллер, драма, биография                          44.5     232.324128  \n8    триллер, драма, военный, история                    15.0      49.230772  \n10    триллер, драма, криминал                           25.0     171.627166  \n11    триллер, драма, криминал                           90.0     289.847354  \n12    триллер, драма, криминал                            6.5      98.410061  \n26  триллер, криминал, детектив, драма, ужасы            19.0     272.742922  ",
      "text/html": "<div>\n<style scoped>\n    .dataframe tbody tr th:only-of-type {\n        vertical-align: middle;\n    }\n\n    .dataframe tbody tr th {\n        vertical-align: top;\n    }\n\n    .dataframe thead th {\n        text-align: right;\n    }\n</style>\n<table border=\"1\" class=\"dataframe\">\n  <thead>\n    <tr style=\"text-align: right;\">\n      <th></th>\n      <th>Название</th>\n      <th>Год</th>\n      <th>Рейтинг</th>\n      <th>Длина, мин.</th>\n      <th>Жанр</th>\n      <th>Бюджет, \\$ млн</th>\n      <th>Сборы, \\$ млн</th>\n    </tr>\n  </thead>\n  <tbody>\n    <tr>\n      <th>5</th>\n      <td>Операция «Арго»</td>\n      <td>2012</td>\n      <td>7.517</td>\n      <td>120</td>\n      <td>триллер, драма, биография</td>\n      <td>44.5</td>\n      <td>232.324128</td>\n    </tr>\n    <tr>\n      <th>8</th>\n      <td>Повелитель бури</td>\n      <td>2008</td>\n      <td>7.298</td>\n      <td>126</td>\n      <td>триллер, драма, военный, история</td>\n      <td>15.0</td>\n      <td>49.230772</td>\n    </tr>\n    <tr>\n      <th>10</th>\n      <td>Старикам тут не место</td>\n      <td>2007</td>\n      <td>7.726</td>\n      <td>122</td>\n      <td>триллер, драма, криминал</td>\n      <td>25.0</td>\n      <td>171.627166</td>\n    </tr>\n    <tr>\n      <th>11</th>\n      <td>Отступники</td>\n      <td>2006</td>\n      <td>8.456</td>\n      <td>151</td>\n      <td>триллер, драма, криминал</td>\n      <td>90.0</td>\n      <td>289.847354</td>\n    </tr>\n    <tr>\n      <th>12</th>\n      <td>Столкновение</td>\n      <td>2004</td>\n      <td>7.896</td>\n      <td>108</td>\n      <td>триллер, драма, криминал</td>\n      <td>6.5</td>\n      <td>98.410061</td>\n    </tr>\n    <tr>\n      <th>26</th>\n      <td>Молчание ягнят</td>\n      <td>1990</td>\n      <td>8.335</td>\n      <td>114</td>\n      <td>триллер, криминал, детектив, драма, ужасы</td>\n      <td>19.0</td>\n      <td>272.742922</td>\n    </tr>\n  </tbody>\n</table>\n</div>"
     },
     "execution_count": 58,
     "metadata": {},
     "output_type": "execute_result"
    }
   ],
   "source": [
    "filtered_data = data[data['Название'].isin(filter_genre(False, 'триллер', 'ужасы'))]\n",
    "filtered_data"
   ]
  },
  {
   "cell_type": "code",
   "execution_count": 59,
   "outputs": [
    {
     "data": {
      "text/plain": "                               Название   Год  Рейтинг  Длина, мин.  \\\n26  Молчание ягнят                       1990    8.335          114   \n\n                                         Жанр  Бюджет, \\$ млн  Сборы, \\$ млн  \n26  триллер, криминал, детектив, драма, ужасы            19.0     272.742922  ",
      "text/html": "<div>\n<style scoped>\n    .dataframe tbody tr th:only-of-type {\n        vertical-align: middle;\n    }\n\n    .dataframe tbody tr th {\n        vertical-align: top;\n    }\n\n    .dataframe thead th {\n        text-align: right;\n    }\n</style>\n<table border=\"1\" class=\"dataframe\">\n  <thead>\n    <tr style=\"text-align: right;\">\n      <th></th>\n      <th>Название</th>\n      <th>Год</th>\n      <th>Рейтинг</th>\n      <th>Длина, мин.</th>\n      <th>Жанр</th>\n      <th>Бюджет, \\$ млн</th>\n      <th>Сборы, \\$ млн</th>\n    </tr>\n  </thead>\n  <tbody>\n    <tr>\n      <th>26</th>\n      <td>Молчание ягнят</td>\n      <td>1990</td>\n      <td>8.335</td>\n      <td>114</td>\n      <td>триллер, криминал, детектив, драма, ужасы</td>\n      <td>19.0</td>\n      <td>272.742922</td>\n    </tr>\n  </tbody>\n</table>\n</div>"
     },
     "execution_count": 59,
     "metadata": {},
     "output_type": "execute_result"
    }
   ],
   "source": [
    "filtered_data = data[data['Название'].isin(filter_genre(True, 'триллер', 'ужасы'))]\n",
    "filtered_data"
   ],
   "metadata": {
    "collapsed": false
   }
  },
  {
   "cell_type": "markdown",
   "metadata": {},
   "source": [
    "## Задача \n",
    "Для анализа фильмов по годам, нужно научиться выделять диапазоны. Найдите все фильмы начиная с 2000 по 2010."
   ]
  },
  {
   "cell_type": "code",
   "execution_count": 60,
   "metadata": {},
   "outputs": [
    {
     "data": {
      "text/plain": "                               Название   Год  Рейтинг  Длина, мин.  \\\n8   Повелитель бури                      2008    7.298          126   \n9   Миллионер из трущоб                  2008    7.724          120   \n10  Старикам тут не место                2007    7.726          122   \n11  Отступники                           2006    8.456          151   \n12  Столкновение                         2004    7.896          108   \n13  Малышка на миллион                   2004    8.075          132   \n14  Властелин колец: Возвращение Короля  2003    8.617          201   \n15  Чикаго                               2002    7.669          113   \n16  Игры разума                          2001    8.557          135   \n17  Гладиатор                            2000    8.585          155   \n\n                                        Жанр  Бюджет, \\$ млн  Сборы, \\$ млн  \n8   триллер, драма, военный, история                    15.0      49.230772  \n9              драма, мелодрама                         15.0     377.910544  \n10   триллер, драма, криминал                           25.0     171.627166  \n11   триллер, драма, криминал                           90.0     289.847354  \n12   триллер, драма, криминал                            6.5      98.410061  \n13              драма, спорт                            30.0     216.763646  \n14  фэнтези, драма, приключения                         94.0    1119.110941  \n15   мюзикл, комедия, криминал                          45.0     306.776732  \n16  драма, биография, мелодрама                         58.0     313.542341  \n17   боевик, драма, приключения                        103.0     457.640427  ",
      "text/html": "<div>\n<style scoped>\n    .dataframe tbody tr th:only-of-type {\n        vertical-align: middle;\n    }\n\n    .dataframe tbody tr th {\n        vertical-align: top;\n    }\n\n    .dataframe thead th {\n        text-align: right;\n    }\n</style>\n<table border=\"1\" class=\"dataframe\">\n  <thead>\n    <tr style=\"text-align: right;\">\n      <th></th>\n      <th>Название</th>\n      <th>Год</th>\n      <th>Рейтинг</th>\n      <th>Длина, мин.</th>\n      <th>Жанр</th>\n      <th>Бюджет, \\$ млн</th>\n      <th>Сборы, \\$ млн</th>\n    </tr>\n  </thead>\n  <tbody>\n    <tr>\n      <th>8</th>\n      <td>Повелитель бури</td>\n      <td>2008</td>\n      <td>7.298</td>\n      <td>126</td>\n      <td>триллер, драма, военный, история</td>\n      <td>15.0</td>\n      <td>49.230772</td>\n    </tr>\n    <tr>\n      <th>9</th>\n      <td>Миллионер из трущоб</td>\n      <td>2008</td>\n      <td>7.724</td>\n      <td>120</td>\n      <td>драма, мелодрама</td>\n      <td>15.0</td>\n      <td>377.910544</td>\n    </tr>\n    <tr>\n      <th>10</th>\n      <td>Старикам тут не место</td>\n      <td>2007</td>\n      <td>7.726</td>\n      <td>122</td>\n      <td>триллер, драма, криминал</td>\n      <td>25.0</td>\n      <td>171.627166</td>\n    </tr>\n    <tr>\n      <th>11</th>\n      <td>Отступники</td>\n      <td>2006</td>\n      <td>8.456</td>\n      <td>151</td>\n      <td>триллер, драма, криминал</td>\n      <td>90.0</td>\n      <td>289.847354</td>\n    </tr>\n    <tr>\n      <th>12</th>\n      <td>Столкновение</td>\n      <td>2004</td>\n      <td>7.896</td>\n      <td>108</td>\n      <td>триллер, драма, криминал</td>\n      <td>6.5</td>\n      <td>98.410061</td>\n    </tr>\n    <tr>\n      <th>13</th>\n      <td>Малышка на миллион</td>\n      <td>2004</td>\n      <td>8.075</td>\n      <td>132</td>\n      <td>драма, спорт</td>\n      <td>30.0</td>\n      <td>216.763646</td>\n    </tr>\n    <tr>\n      <th>14</th>\n      <td>Властелин колец: Возвращение Короля</td>\n      <td>2003</td>\n      <td>8.617</td>\n      <td>201</td>\n      <td>фэнтези, драма, приключения</td>\n      <td>94.0</td>\n      <td>1119.110941</td>\n    </tr>\n    <tr>\n      <th>15</th>\n      <td>Чикаго</td>\n      <td>2002</td>\n      <td>7.669</td>\n      <td>113</td>\n      <td>мюзикл, комедия, криминал</td>\n      <td>45.0</td>\n      <td>306.776732</td>\n    </tr>\n    <tr>\n      <th>16</th>\n      <td>Игры разума</td>\n      <td>2001</td>\n      <td>8.557</td>\n      <td>135</td>\n      <td>драма, биография, мелодрама</td>\n      <td>58.0</td>\n      <td>313.542341</td>\n    </tr>\n    <tr>\n      <th>17</th>\n      <td>Гладиатор</td>\n      <td>2000</td>\n      <td>8.585</td>\n      <td>155</td>\n      <td>боевик, драма, приключения</td>\n      <td>103.0</td>\n      <td>457.640427</td>\n    </tr>\n  </tbody>\n</table>\n</div>"
     },
     "execution_count": 60,
     "metadata": {},
     "output_type": "execute_result"
    }
   ],
   "source": [
    "data.loc[(data['Год']>=2000)&(data['Год']<2010)]"
   ]
  }
 ],
 "metadata": {
  "kernelspec": {
   "display_name": "Python 3 (ipykernel)",
   "language": "python",
   "name": "python3"
  },
  "language_info": {
   "codemirror_mode": {
    "name": "ipython",
    "version": 3
   },
   "file_extension": ".py",
   "mimetype": "text/x-python",
   "name": "python",
   "nbconvert_exporter": "python",
   "pygments_lexer": "ipython3",
   "version": "3.9.7"
  }
 },
 "nbformat": 4,
 "nbformat_minor": 4
}
