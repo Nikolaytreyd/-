{
 "cells": [
  {
   "cell_type": "markdown",
   "source": [
    "PART 1"
   ],
   "metadata": {
    "collapsed": false
   }
  },
  {
   "cell_type": "code",
   "execution_count": 6,
   "outputs": [],
   "source": [
    "name = ['Английский', 'Русский', 'Немецкий', 'Испанский', 'Французский', 'Японский', 'Португальский', 'Итальянский', 'Персидский', 'Польский', 'Китайский', 'Датский', 'Турецкий', 'Чешский']\n",
    "value = [0.539, 0.061, 0.06, 0.049, 0.04, 0.034, 0.029, 0.024, 0.02, 0.018, 0.017, 0.012, 0.012, 0.01]\n",
    "volume = [378.2, 153.9, 76, 442.3, 76.7, 128.2, 222.7, 64.8, 60, 39.6, 908.7, 22, 78.5, 10.4]\n",
    "summ = [1121, 264.3, 132, 512.9, 284.9, 128.3, 236.5, 67.8, 110, 40.3, 1107, 28, 78.9, 10.6]"
   ],
   "metadata": {
    "collapsed": false
   }
  },
  {
   "cell_type": "markdown",
   "source": [
    "Создание DF"
   ],
   "metadata": {
    "collapsed": false
   }
  },
  {
   "cell_type": "code",
   "execution_count": 7,
   "outputs": [
    {
     "data": {
      "text/plain": "             Язык Доля сайтов Носители    Все\n0      Английский       0.539    378.2   1121\n1         Русский       0.061    153.9  264.3\n2        Немецкий        0.06       76    132\n3       Испанский       0.049    442.3  512.9\n4     Французский        0.04     76.7  284.9\n5        Японский       0.034    128.2  128.3\n6   Португальский       0.029    222.7  236.5\n7     Итальянский       0.024     64.8   67.8\n8      Персидский        0.02       60    110\n9        Польский       0.018     39.6   40.3\n10      Китайский       0.017    908.7   1107\n11        Датский       0.012       22     28\n12       Турецкий       0.012     78.5   78.9\n13        Чешский        0.01     10.4   10.6",
      "text/html": "<div>\n<style scoped>\n    .dataframe tbody tr th:only-of-type {\n        vertical-align: middle;\n    }\n\n    .dataframe tbody tr th {\n        vertical-align: top;\n    }\n\n    .dataframe thead th {\n        text-align: right;\n    }\n</style>\n<table border=\"1\" class=\"dataframe\">\n  <thead>\n    <tr style=\"text-align: right;\">\n      <th></th>\n      <th>Язык</th>\n      <th>Доля сайтов</th>\n      <th>Носители</th>\n      <th>Все</th>\n    </tr>\n  </thead>\n  <tbody>\n    <tr>\n      <th>0</th>\n      <td>Английский</td>\n      <td>0.539</td>\n      <td>378.2</td>\n      <td>1121</td>\n    </tr>\n    <tr>\n      <th>1</th>\n      <td>Русский</td>\n      <td>0.061</td>\n      <td>153.9</td>\n      <td>264.3</td>\n    </tr>\n    <tr>\n      <th>2</th>\n      <td>Немецкий</td>\n      <td>0.06</td>\n      <td>76</td>\n      <td>132</td>\n    </tr>\n    <tr>\n      <th>3</th>\n      <td>Испанский</td>\n      <td>0.049</td>\n      <td>442.3</td>\n      <td>512.9</td>\n    </tr>\n    <tr>\n      <th>4</th>\n      <td>Французский</td>\n      <td>0.04</td>\n      <td>76.7</td>\n      <td>284.9</td>\n    </tr>\n    <tr>\n      <th>5</th>\n      <td>Японский</td>\n      <td>0.034</td>\n      <td>128.2</td>\n      <td>128.3</td>\n    </tr>\n    <tr>\n      <th>6</th>\n      <td>Португальский</td>\n      <td>0.029</td>\n      <td>222.7</td>\n      <td>236.5</td>\n    </tr>\n    <tr>\n      <th>7</th>\n      <td>Итальянский</td>\n      <td>0.024</td>\n      <td>64.8</td>\n      <td>67.8</td>\n    </tr>\n    <tr>\n      <th>8</th>\n      <td>Персидский</td>\n      <td>0.02</td>\n      <td>60</td>\n      <td>110</td>\n    </tr>\n    <tr>\n      <th>9</th>\n      <td>Польский</td>\n      <td>0.018</td>\n      <td>39.6</td>\n      <td>40.3</td>\n    </tr>\n    <tr>\n      <th>10</th>\n      <td>Китайский</td>\n      <td>0.017</td>\n      <td>908.7</td>\n      <td>1107</td>\n    </tr>\n    <tr>\n      <th>11</th>\n      <td>Датский</td>\n      <td>0.012</td>\n      <td>22</td>\n      <td>28</td>\n    </tr>\n    <tr>\n      <th>12</th>\n      <td>Турецкий</td>\n      <td>0.012</td>\n      <td>78.5</td>\n      <td>78.9</td>\n    </tr>\n    <tr>\n      <th>13</th>\n      <td>Чешский</td>\n      <td>0.01</td>\n      <td>10.4</td>\n      <td>10.6</td>\n    </tr>\n  </tbody>\n</table>\n</div>"
     },
     "execution_count": 7,
     "metadata": {},
     "output_type": "execute_result"
    }
   ],
   "source": [
    "from pandas import DataFrame as df\n",
    "\n",
    "data = df(data=[name, value, volume, summ], index=['Язык', 'Доля сайтов', 'Носители', 'Все']).T\n",
    "data"
   ],
   "metadata": {
    "collapsed": false
   }
  },
  {
   "cell_type": "markdown",
   "source": [
    "Расчеты долей"
   ],
   "metadata": {
    "collapsed": false
   }
  },
  {
   "cell_type": "code",
   "execution_count": 8,
   "outputs": [
    {
     "data": {
      "text/plain": "             Язык Доля сайтов Носители    Все  Доля носителей  \\\n0      Английский       0.539    378.2   1121            33.7   \n1         Русский       0.061    153.9  264.3            58.2   \n2        Немецкий        0.06       76    132            57.6   \n3       Испанский       0.049    442.3  512.9            86.2   \n4     Французский        0.04     76.7  284.9            26.9   \n5        Японский       0.034    128.2  128.3            99.9   \n6   Португальский       0.029    222.7  236.5            94.2   \n7     Итальянский       0.024     64.8   67.8            95.6   \n8      Персидский        0.02       60    110            54.5   \n9        Польский       0.018     39.6   40.3            98.3   \n10      Китайский       0.017    908.7   1107            82.1   \n11        Датский       0.012       22     28            78.6   \n12       Турецкий       0.012     78.5   78.9            99.5   \n13        Чешский        0.01     10.4   10.6            98.1   \n\n    Относительная доля сайтов  \n0                        58.3  \n1                         6.6  \n2                         6.5  \n3                         5.3  \n4                         4.3  \n5                         3.7  \n6                         3.1  \n7                         2.6  \n8                         2.2  \n9                         1.9  \n10                        1.8  \n11                        1.3  \n12                        1.3  \n13                        1.1  ",
      "text/html": "<div>\n<style scoped>\n    .dataframe tbody tr th:only-of-type {\n        vertical-align: middle;\n    }\n\n    .dataframe tbody tr th {\n        vertical-align: top;\n    }\n\n    .dataframe thead th {\n        text-align: right;\n    }\n</style>\n<table border=\"1\" class=\"dataframe\">\n  <thead>\n    <tr style=\"text-align: right;\">\n      <th></th>\n      <th>Язык</th>\n      <th>Доля сайтов</th>\n      <th>Носители</th>\n      <th>Все</th>\n      <th>Доля носителей</th>\n      <th>Относительная доля сайтов</th>\n    </tr>\n  </thead>\n  <tbody>\n    <tr>\n      <th>0</th>\n      <td>Английский</td>\n      <td>0.539</td>\n      <td>378.2</td>\n      <td>1121</td>\n      <td>33.7</td>\n      <td>58.3</td>\n    </tr>\n    <tr>\n      <th>1</th>\n      <td>Русский</td>\n      <td>0.061</td>\n      <td>153.9</td>\n      <td>264.3</td>\n      <td>58.2</td>\n      <td>6.6</td>\n    </tr>\n    <tr>\n      <th>2</th>\n      <td>Немецкий</td>\n      <td>0.06</td>\n      <td>76</td>\n      <td>132</td>\n      <td>57.6</td>\n      <td>6.5</td>\n    </tr>\n    <tr>\n      <th>3</th>\n      <td>Испанский</td>\n      <td>0.049</td>\n      <td>442.3</td>\n      <td>512.9</td>\n      <td>86.2</td>\n      <td>5.3</td>\n    </tr>\n    <tr>\n      <th>4</th>\n      <td>Французский</td>\n      <td>0.04</td>\n      <td>76.7</td>\n      <td>284.9</td>\n      <td>26.9</td>\n      <td>4.3</td>\n    </tr>\n    <tr>\n      <th>5</th>\n      <td>Японский</td>\n      <td>0.034</td>\n      <td>128.2</td>\n      <td>128.3</td>\n      <td>99.9</td>\n      <td>3.7</td>\n    </tr>\n    <tr>\n      <th>6</th>\n      <td>Португальский</td>\n      <td>0.029</td>\n      <td>222.7</td>\n      <td>236.5</td>\n      <td>94.2</td>\n      <td>3.1</td>\n    </tr>\n    <tr>\n      <th>7</th>\n      <td>Итальянский</td>\n      <td>0.024</td>\n      <td>64.8</td>\n      <td>67.8</td>\n      <td>95.6</td>\n      <td>2.6</td>\n    </tr>\n    <tr>\n      <th>8</th>\n      <td>Персидский</td>\n      <td>0.02</td>\n      <td>60</td>\n      <td>110</td>\n      <td>54.5</td>\n      <td>2.2</td>\n    </tr>\n    <tr>\n      <th>9</th>\n      <td>Польский</td>\n      <td>0.018</td>\n      <td>39.6</td>\n      <td>40.3</td>\n      <td>98.3</td>\n      <td>1.9</td>\n    </tr>\n    <tr>\n      <th>10</th>\n      <td>Китайский</td>\n      <td>0.017</td>\n      <td>908.7</td>\n      <td>1107</td>\n      <td>82.1</td>\n      <td>1.8</td>\n    </tr>\n    <tr>\n      <th>11</th>\n      <td>Датский</td>\n      <td>0.012</td>\n      <td>22</td>\n      <td>28</td>\n      <td>78.6</td>\n      <td>1.3</td>\n    </tr>\n    <tr>\n      <th>12</th>\n      <td>Турецкий</td>\n      <td>0.012</td>\n      <td>78.5</td>\n      <td>78.9</td>\n      <td>99.5</td>\n      <td>1.3</td>\n    </tr>\n    <tr>\n      <th>13</th>\n      <td>Чешский</td>\n      <td>0.01</td>\n      <td>10.4</td>\n      <td>10.6</td>\n      <td>98.1</td>\n      <td>1.1</td>\n    </tr>\n  </tbody>\n</table>\n</div>"
     },
     "execution_count": 8,
     "metadata": {},
     "output_type": "execute_result"
    }
   ],
   "source": [
    "def round_mod(x, option=1):\n",
    "    return round(x, option)\n",
    "\n",
    "data['Доля носителей'] = data['Носители']/data['Все'] * 100\n",
    "data['Доля носителей'] = data['Доля носителей'].apply(round_mod)\n",
    "\n",
    "data['Относительная доля сайтов'] = data['Доля сайтов']/sum(data['Доля сайтов']) * 100\n",
    "data['Относительная доля сайтов'] = data['Относительная доля сайтов'].apply(round_mod)\n",
    "\n",
    "data"
   ],
   "metadata": {
    "collapsed": false
   }
  }
 ],
 "metadata": {
  "kernelspec": {
   "display_name": "Python 3 (ipykernel)",
   "language": "python",
   "name": "python3"
  },
  "language_info": {
   "codemirror_mode": {
    "name": "ipython",
    "version": 3
   },
   "file_extension": ".py",
   "mimetype": "text/x-python",
   "name": "python",
   "nbconvert_exporter": "python",
   "pygments_lexer": "ipython3",
   "version": "3.9.7"
  }
 },
 "nbformat": 4,
 "nbformat_minor": 4
}
