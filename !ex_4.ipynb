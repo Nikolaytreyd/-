{
 "cells": [
  {
   "cell_type": "code",
   "execution_count": 8,
   "metadata": {
    "collapsed": true
   },
   "outputs": [
    {
     "data": {
      "text/plain": "            Название  EMOJIXPRESS, МЛН  INSTAGRAM, МЛН  ТВИТТЕР, МЛН\n0          Ухмыляюсь            2.2600           1.020          87.3\n1    Сияю от радости           19.1000           1.690         150.0\n2   Катаюсь от смеха           25.6000           0.774           0.0\n3      Слёзы радости          233.0000           7.310        2270.0\n4         Подмигиваю           15.2000           2.360         264.0\n5           Счастлив           22.7000           4.260         565.0\n6       Глаза-сердца           64.6000          11.200         834.0\n7              Целую           87.5000           5.130         432.0\n8       Задумчивость            6.8100           0.636           0.0\n9         Равнодушие            6.0000           0.236         478.0\n10    Солнечные очки            4.7200           3.930         198.0\n11      Громко плачу           24.7000           1.350         654.0\n12   След от поцелуя           21.7000           2.870          98.7\n13        Два сердца           10.0000           5.690         445.0\n14            Сердце          118.0000          26.000        1080.0\n15             Червы            3.3100           1.820         697.0\n16             Класс           23.1000           3.750         227.0\n17   Пожимаю плечами            1.7400           0.110           0.0\n18             Огонь            4.5000           2.490         150.0\n19       Переработка            0.0333           0.056         932.0",
      "text/html": "<div>\n<style scoped>\n    .dataframe tbody tr th:only-of-type {\n        vertical-align: middle;\n    }\n\n    .dataframe tbody tr th {\n        vertical-align: top;\n    }\n\n    .dataframe thead th {\n        text-align: right;\n    }\n</style>\n<table border=\"1\" class=\"dataframe\">\n  <thead>\n    <tr style=\"text-align: right;\">\n      <th></th>\n      <th>Название</th>\n      <th>EMOJIXPRESS, МЛН</th>\n      <th>INSTAGRAM, МЛН</th>\n      <th>ТВИТТЕР, МЛН</th>\n    </tr>\n  </thead>\n  <tbody>\n    <tr>\n      <th>0</th>\n      <td>Ухмыляюсь</td>\n      <td>2.2600</td>\n      <td>1.020</td>\n      <td>87.3</td>\n    </tr>\n    <tr>\n      <th>1</th>\n      <td>Сияю от радости</td>\n      <td>19.1000</td>\n      <td>1.690</td>\n      <td>150.0</td>\n    </tr>\n    <tr>\n      <th>2</th>\n      <td>Катаюсь от смеха</td>\n      <td>25.6000</td>\n      <td>0.774</td>\n      <td>0.0</td>\n    </tr>\n    <tr>\n      <th>3</th>\n      <td>Слёзы радости</td>\n      <td>233.0000</td>\n      <td>7.310</td>\n      <td>2270.0</td>\n    </tr>\n    <tr>\n      <th>4</th>\n      <td>Подмигиваю</td>\n      <td>15.2000</td>\n      <td>2.360</td>\n      <td>264.0</td>\n    </tr>\n    <tr>\n      <th>5</th>\n      <td>Счастлив</td>\n      <td>22.7000</td>\n      <td>4.260</td>\n      <td>565.0</td>\n    </tr>\n    <tr>\n      <th>6</th>\n      <td>Глаза-сердца</td>\n      <td>64.6000</td>\n      <td>11.200</td>\n      <td>834.0</td>\n    </tr>\n    <tr>\n      <th>7</th>\n      <td>Целую</td>\n      <td>87.5000</td>\n      <td>5.130</td>\n      <td>432.0</td>\n    </tr>\n    <tr>\n      <th>8</th>\n      <td>Задумчивость</td>\n      <td>6.8100</td>\n      <td>0.636</td>\n      <td>0.0</td>\n    </tr>\n    <tr>\n      <th>9</th>\n      <td>Равнодушие</td>\n      <td>6.0000</td>\n      <td>0.236</td>\n      <td>478.0</td>\n    </tr>\n    <tr>\n      <th>10</th>\n      <td>Солнечные очки</td>\n      <td>4.7200</td>\n      <td>3.930</td>\n      <td>198.0</td>\n    </tr>\n    <tr>\n      <th>11</th>\n      <td>Громко плачу</td>\n      <td>24.7000</td>\n      <td>1.350</td>\n      <td>654.0</td>\n    </tr>\n    <tr>\n      <th>12</th>\n      <td>След от поцелуя</td>\n      <td>21.7000</td>\n      <td>2.870</td>\n      <td>98.7</td>\n    </tr>\n    <tr>\n      <th>13</th>\n      <td>Два сердца</td>\n      <td>10.0000</td>\n      <td>5.690</td>\n      <td>445.0</td>\n    </tr>\n    <tr>\n      <th>14</th>\n      <td>Сердце</td>\n      <td>118.0000</td>\n      <td>26.000</td>\n      <td>1080.0</td>\n    </tr>\n    <tr>\n      <th>15</th>\n      <td>Червы</td>\n      <td>3.3100</td>\n      <td>1.820</td>\n      <td>697.0</td>\n    </tr>\n    <tr>\n      <th>16</th>\n      <td>Класс</td>\n      <td>23.1000</td>\n      <td>3.750</td>\n      <td>227.0</td>\n    </tr>\n    <tr>\n      <th>17</th>\n      <td>Пожимаю плечами</td>\n      <td>1.7400</td>\n      <td>0.110</td>\n      <td>0.0</td>\n    </tr>\n    <tr>\n      <th>18</th>\n      <td>Огонь</td>\n      <td>4.5000</td>\n      <td>2.490</td>\n      <td>150.0</td>\n    </tr>\n    <tr>\n      <th>19</th>\n      <td>Переработка</td>\n      <td>0.0333</td>\n      <td>0.056</td>\n      <td>932.0</td>\n    </tr>\n  </tbody>\n</table>\n</div>"
     },
     "execution_count": 8,
     "metadata": {},
     "output_type": "execute_result"
    }
   ],
   "source": [
    "from pandas import DataFrame as df\n",
    "data = [\n",
    "    ['Ухмыляюсь', 2.26, 1.02, 87.3],\n",
    "    ['Сияю от радости', 19.1, 1.69, 150.0],\n",
    "    ['Катаюсь от смеха', 25.6, 0.774, 0.0],\n",
    "    ['Слёзы радости', 233.0, 7.31, 2270.0],\n",
    "    ['Подмигиваю', 15.2, 2.36, 264.0],\n",
    "    ['Счастлив', 22.7, 4.26, 565.0],\n",
    "    ['Глаза-сердца', 64.6, 11.2, 834.0],\n",
    "    ['Целую', 87.5, 5.13, 432.0],\n",
    "    ['Задумчивость', 6.81, 0.636, 0.0],\n",
    "    ['Равнодушие', 6.0, 0.236, 478.0],\n",
    "    ['Солнечные очки', 4.72, 3.93, 198.0],\n",
    "    ['Громко плачу', 24.7, 1.35, 654.0],\n",
    "    ['След от поцелуя', 21.7, 2.87, 98.7],\n",
    "    ['Два сердца', 10.0, 5.69, 445.0],\n",
    "    ['Сердце', 118.0, 26.0, 1080.0],\n",
    "    ['Червы', 3.31, 1.82, 697.0],\n",
    "    ['Класс', 23.1, 3.75, 227.0],\n",
    "    ['Пожимаю плечами', 1.74, 0.11, 0.0],\n",
    "    ['Огонь', 4.5, 2.49, 150.0],\n",
    "    ['Переработка', 0.0333, 0.056, 932.0]\n",
    "]\n",
    "\n",
    "data = df(data, columns=['Название', 'EMOJIXPRESS, МЛН', 'INSTAGRAM, МЛН', 'ТВИТТЕР, МЛН'])\n",
    "\n",
    "data"
   ]
  },
  {
   "cell_type": "code",
   "execution_count": 11,
   "outputs": [
    {
     "data": {
      "text/plain": "            Название  EMOJIXPRESS, МЛН  INSTAGRAM, МЛН  ТВИТТЕР, МЛН\n6       Глаза-сердца           64.6000          11.200         834.0\n11      Громко плачу           24.7000           1.350         654.0\n13        Два сердца           10.0000           5.690         445.0\n8       Задумчивость            6.8100           0.636           0.0\n2   Катаюсь от смеха           25.6000           0.774           0.0\n16             Класс           23.1000           3.750         227.0\n18             Огонь            4.5000           2.490         150.0\n19       Переработка            0.0333           0.056         932.0\n4         Подмигиваю           15.2000           2.360         264.0\n17   Пожимаю плечами            1.7400           0.110           0.0\n9         Равнодушие            6.0000           0.236         478.0\n14            Сердце          118.0000          26.000        1080.0\n1    Сияю от радости           19.1000           1.690         150.0\n12   След от поцелуя           21.7000           2.870          98.7\n3      Слёзы радости          233.0000           7.310        2270.0\n10    Солнечные очки            4.7200           3.930         198.0\n5           Счастлив           22.7000           4.260         565.0\n0          Ухмыляюсь            2.2600           1.020          87.3\n7              Целую           87.5000           5.130         432.0\n15             Червы            3.3100           1.820         697.0",
      "text/html": "<div>\n<style scoped>\n    .dataframe tbody tr th:only-of-type {\n        vertical-align: middle;\n    }\n\n    .dataframe tbody tr th {\n        vertical-align: top;\n    }\n\n    .dataframe thead th {\n        text-align: right;\n    }\n</style>\n<table border=\"1\" class=\"dataframe\">\n  <thead>\n    <tr style=\"text-align: right;\">\n      <th></th>\n      <th>Название</th>\n      <th>EMOJIXPRESS, МЛН</th>\n      <th>INSTAGRAM, МЛН</th>\n      <th>ТВИТТЕР, МЛН</th>\n    </tr>\n  </thead>\n  <tbody>\n    <tr>\n      <th>6</th>\n      <td>Глаза-сердца</td>\n      <td>64.6000</td>\n      <td>11.200</td>\n      <td>834.0</td>\n    </tr>\n    <tr>\n      <th>11</th>\n      <td>Громко плачу</td>\n      <td>24.7000</td>\n      <td>1.350</td>\n      <td>654.0</td>\n    </tr>\n    <tr>\n      <th>13</th>\n      <td>Два сердца</td>\n      <td>10.0000</td>\n      <td>5.690</td>\n      <td>445.0</td>\n    </tr>\n    <tr>\n      <th>8</th>\n      <td>Задумчивость</td>\n      <td>6.8100</td>\n      <td>0.636</td>\n      <td>0.0</td>\n    </tr>\n    <tr>\n      <th>2</th>\n      <td>Катаюсь от смеха</td>\n      <td>25.6000</td>\n      <td>0.774</td>\n      <td>0.0</td>\n    </tr>\n    <tr>\n      <th>16</th>\n      <td>Класс</td>\n      <td>23.1000</td>\n      <td>3.750</td>\n      <td>227.0</td>\n    </tr>\n    <tr>\n      <th>18</th>\n      <td>Огонь</td>\n      <td>4.5000</td>\n      <td>2.490</td>\n      <td>150.0</td>\n    </tr>\n    <tr>\n      <th>19</th>\n      <td>Переработка</td>\n      <td>0.0333</td>\n      <td>0.056</td>\n      <td>932.0</td>\n    </tr>\n    <tr>\n      <th>4</th>\n      <td>Подмигиваю</td>\n      <td>15.2000</td>\n      <td>2.360</td>\n      <td>264.0</td>\n    </tr>\n    <tr>\n      <th>17</th>\n      <td>Пожимаю плечами</td>\n      <td>1.7400</td>\n      <td>0.110</td>\n      <td>0.0</td>\n    </tr>\n    <tr>\n      <th>9</th>\n      <td>Равнодушие</td>\n      <td>6.0000</td>\n      <td>0.236</td>\n      <td>478.0</td>\n    </tr>\n    <tr>\n      <th>14</th>\n      <td>Сердце</td>\n      <td>118.0000</td>\n      <td>26.000</td>\n      <td>1080.0</td>\n    </tr>\n    <tr>\n      <th>1</th>\n      <td>Сияю от радости</td>\n      <td>19.1000</td>\n      <td>1.690</td>\n      <td>150.0</td>\n    </tr>\n    <tr>\n      <th>12</th>\n      <td>След от поцелуя</td>\n      <td>21.7000</td>\n      <td>2.870</td>\n      <td>98.7</td>\n    </tr>\n    <tr>\n      <th>3</th>\n      <td>Слёзы радости</td>\n      <td>233.0000</td>\n      <td>7.310</td>\n      <td>2270.0</td>\n    </tr>\n    <tr>\n      <th>10</th>\n      <td>Солнечные очки</td>\n      <td>4.7200</td>\n      <td>3.930</td>\n      <td>198.0</td>\n    </tr>\n    <tr>\n      <th>5</th>\n      <td>Счастлив</td>\n      <td>22.7000</td>\n      <td>4.260</td>\n      <td>565.0</td>\n    </tr>\n    <tr>\n      <th>0</th>\n      <td>Ухмыляюсь</td>\n      <td>2.2600</td>\n      <td>1.020</td>\n      <td>87.3</td>\n    </tr>\n    <tr>\n      <th>7</th>\n      <td>Целую</td>\n      <td>87.5000</td>\n      <td>5.130</td>\n      <td>432.0</td>\n    </tr>\n    <tr>\n      <th>15</th>\n      <td>Червы</td>\n      <td>3.3100</td>\n      <td>1.820</td>\n      <td>697.0</td>\n    </tr>\n  </tbody>\n</table>\n</div>"
     },
     "execution_count": 11,
     "metadata": {},
     "output_type": "execute_result"
    }
   ],
   "source": [
    "new_data = data.sort_values(by='Название', ascending=True)\n",
    "new_data"
   ],
   "metadata": {
    "collapsed": false
   }
  },
  {
   "cell_type": "code",
   "execution_count": 14,
   "outputs": [
    {
     "data": {
      "text/plain": "[2270.0,\n 1080.0,\n 932.0,\n 834.0,\n 697.0,\n 654.0,\n 565.0,\n 478.0,\n 445.0,\n 432.0,\n 264.0,\n 227.0,\n 198.0,\n 150.0,\n 150.0,\n 98.7,\n 87.3,\n 0.0,\n 0.0,\n 0.0]"
     },
     "execution_count": 14,
     "metadata": {},
     "output_type": "execute_result"
    }
   ],
   "source": [
    "sorted(list(data['ТВИТТЕР, МЛН']), reverse=True)"
   ],
   "metadata": {
    "collapsed": false
   }
  },
  {
   "cell_type": "code",
   "execution_count": 16,
   "outputs": [
    {
     "data": {
      "text/plain": "            Название  EMOJIXPRESS, МЛН  INSTAGRAM, МЛН  ТВИТТЕР, МЛН\n3      Слёзы радости          233.0000           7.310        2270.0\n14            Сердце          118.0000          26.000        1080.0\n19       Переработка            0.0333           0.056         932.0\n6       Глаза-сердца           64.6000          11.200         834.0\n15             Червы            3.3100           1.820         697.0\n11      Громко плачу           24.7000           1.350         654.0\n5           Счастлив           22.7000           4.260         565.0\n9         Равнодушие            6.0000           0.236         478.0\n13        Два сердца           10.0000           5.690         445.0\n7              Целую           87.5000           5.130         432.0\n4         Подмигиваю           15.2000           2.360         264.0\n16             Класс           23.1000           3.750         227.0\n10    Солнечные очки            4.7200           3.930         198.0\n18             Огонь            4.5000           2.490         150.0\n1    Сияю от радости           19.1000           1.690         150.0\n12   След от поцелуя           21.7000           2.870          98.7\n0          Ухмыляюсь            2.2600           1.020          87.3\n2   Катаюсь от смеха           25.6000           0.774           0.0\n17   Пожимаю плечами            1.7400           0.110           0.0\n8       Задумчивость            6.8100           0.636           0.0",
      "text/html": "<div>\n<style scoped>\n    .dataframe tbody tr th:only-of-type {\n        vertical-align: middle;\n    }\n\n    .dataframe tbody tr th {\n        vertical-align: top;\n    }\n\n    .dataframe thead th {\n        text-align: right;\n    }\n</style>\n<table border=\"1\" class=\"dataframe\">\n  <thead>\n    <tr style=\"text-align: right;\">\n      <th></th>\n      <th>Название</th>\n      <th>EMOJIXPRESS, МЛН</th>\n      <th>INSTAGRAM, МЛН</th>\n      <th>ТВИТТЕР, МЛН</th>\n    </tr>\n  </thead>\n  <tbody>\n    <tr>\n      <th>3</th>\n      <td>Слёзы радости</td>\n      <td>233.0000</td>\n      <td>7.310</td>\n      <td>2270.0</td>\n    </tr>\n    <tr>\n      <th>14</th>\n      <td>Сердце</td>\n      <td>118.0000</td>\n      <td>26.000</td>\n      <td>1080.0</td>\n    </tr>\n    <tr>\n      <th>19</th>\n      <td>Переработка</td>\n      <td>0.0333</td>\n      <td>0.056</td>\n      <td>932.0</td>\n    </tr>\n    <tr>\n      <th>6</th>\n      <td>Глаза-сердца</td>\n      <td>64.6000</td>\n      <td>11.200</td>\n      <td>834.0</td>\n    </tr>\n    <tr>\n      <th>15</th>\n      <td>Червы</td>\n      <td>3.3100</td>\n      <td>1.820</td>\n      <td>697.0</td>\n    </tr>\n    <tr>\n      <th>11</th>\n      <td>Громко плачу</td>\n      <td>24.7000</td>\n      <td>1.350</td>\n      <td>654.0</td>\n    </tr>\n    <tr>\n      <th>5</th>\n      <td>Счастлив</td>\n      <td>22.7000</td>\n      <td>4.260</td>\n      <td>565.0</td>\n    </tr>\n    <tr>\n      <th>9</th>\n      <td>Равнодушие</td>\n      <td>6.0000</td>\n      <td>0.236</td>\n      <td>478.0</td>\n    </tr>\n    <tr>\n      <th>13</th>\n      <td>Два сердца</td>\n      <td>10.0000</td>\n      <td>5.690</td>\n      <td>445.0</td>\n    </tr>\n    <tr>\n      <th>7</th>\n      <td>Целую</td>\n      <td>87.5000</td>\n      <td>5.130</td>\n      <td>432.0</td>\n    </tr>\n    <tr>\n      <th>4</th>\n      <td>Подмигиваю</td>\n      <td>15.2000</td>\n      <td>2.360</td>\n      <td>264.0</td>\n    </tr>\n    <tr>\n      <th>16</th>\n      <td>Класс</td>\n      <td>23.1000</td>\n      <td>3.750</td>\n      <td>227.0</td>\n    </tr>\n    <tr>\n      <th>10</th>\n      <td>Солнечные очки</td>\n      <td>4.7200</td>\n      <td>3.930</td>\n      <td>198.0</td>\n    </tr>\n    <tr>\n      <th>18</th>\n      <td>Огонь</td>\n      <td>4.5000</td>\n      <td>2.490</td>\n      <td>150.0</td>\n    </tr>\n    <tr>\n      <th>1</th>\n      <td>Сияю от радости</td>\n      <td>19.1000</td>\n      <td>1.690</td>\n      <td>150.0</td>\n    </tr>\n    <tr>\n      <th>12</th>\n      <td>След от поцелуя</td>\n      <td>21.7000</td>\n      <td>2.870</td>\n      <td>98.7</td>\n    </tr>\n    <tr>\n      <th>0</th>\n      <td>Ухмыляюсь</td>\n      <td>2.2600</td>\n      <td>1.020</td>\n      <td>87.3</td>\n    </tr>\n    <tr>\n      <th>2</th>\n      <td>Катаюсь от смеха</td>\n      <td>25.6000</td>\n      <td>0.774</td>\n      <td>0.0</td>\n    </tr>\n    <tr>\n      <th>17</th>\n      <td>Пожимаю плечами</td>\n      <td>1.7400</td>\n      <td>0.110</td>\n      <td>0.0</td>\n    </tr>\n    <tr>\n      <th>8</th>\n      <td>Задумчивость</td>\n      <td>6.8100</td>\n      <td>0.636</td>\n      <td>0.0</td>\n    </tr>\n  </tbody>\n</table>\n</div>"
     },
     "execution_count": 16,
     "metadata": {},
     "output_type": "execute_result"
    }
   ],
   "source": [
    "new_data = data.sort_values(by='ТВИТТЕР, МЛН', ascending=False)\n",
    "new_data"
   ],
   "metadata": {
    "collapsed": false
   }
  },
  {
   "cell_type": "code",
   "execution_count": 21,
   "outputs": [
    {
     "data": {
      "text/plain": "       Название  EMOJIXPRESS, МЛН  INSTAGRAM, МЛН  ТВИТТЕР, МЛН\n6  Глаза-сердца             64.60          11.200         834.0\n8  Задумчивость              6.81           0.636           0.0\n7         Целую             87.50           5.130         432.0",
      "text/html": "<div>\n<style scoped>\n    .dataframe tbody tr th:only-of-type {\n        vertical-align: middle;\n    }\n\n    .dataframe tbody tr th {\n        vertical-align: top;\n    }\n\n    .dataframe thead th {\n        text-align: right;\n    }\n</style>\n<table border=\"1\" class=\"dataframe\">\n  <thead>\n    <tr style=\"text-align: right;\">\n      <th></th>\n      <th>Название</th>\n      <th>EMOJIXPRESS, МЛН</th>\n      <th>INSTAGRAM, МЛН</th>\n      <th>ТВИТТЕР, МЛН</th>\n    </tr>\n  </thead>\n  <tbody>\n    <tr>\n      <th>6</th>\n      <td>Глаза-сердца</td>\n      <td>64.60</td>\n      <td>11.200</td>\n      <td>834.0</td>\n    </tr>\n    <tr>\n      <th>8</th>\n      <td>Задумчивость</td>\n      <td>6.81</td>\n      <td>0.636</td>\n      <td>0.0</td>\n    </tr>\n    <tr>\n      <th>7</th>\n      <td>Целую</td>\n      <td>87.50</td>\n      <td>5.130</td>\n      <td>432.0</td>\n    </tr>\n  </tbody>\n</table>\n</div>"
     },
     "execution_count": 21,
     "metadata": {},
     "output_type": "execute_result"
    }
   ],
   "source": [
    "data[(data['Название'] ==  'Глаза-сердца')  |\n",
    "     (data['Название'] == 'Целую')  |\n",
    "     (data['Название'] == 'Задумчивость')]"
   ],
   "metadata": {
    "collapsed": false
   }
  },
  {
   "cell_type": "code",
   "execution_count": null,
   "outputs": [],
   "source": [],
   "metadata": {
    "collapsed": false
   }
  }
 ],
 "metadata": {
  "kernelspec": {
   "display_name": "Python 3",
   "language": "python",
   "name": "python3"
  },
  "language_info": {
   "codemirror_mode": {
    "name": "ipython",
    "version": 2
   },
   "file_extension": ".py",
   "mimetype": "text/x-python",
   "name": "python",
   "nbconvert_exporter": "python",
   "pygments_lexer": "ipython2",
   "version": "2.7.6"
  }
 },
 "nbformat": 4,
 "nbformat_minor": 0
}
